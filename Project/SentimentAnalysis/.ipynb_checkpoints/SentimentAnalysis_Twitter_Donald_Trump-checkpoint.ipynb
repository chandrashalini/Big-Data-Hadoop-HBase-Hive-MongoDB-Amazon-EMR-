{
 "cells": [
  {
   "cell_type": "markdown",
   "metadata": {},
   "source": [
    "\n",
    "## Trump Sentiment Analysis\n",
    "Analyzing and draw conclusions about the current US President's tweet behavior using data from the Twitter API.\n",
    "\n",
    "##### Load Libraries and Setup"
   ]
  },
  {
   "cell_type": "code",
   "execution_count": 2,
   "metadata": {},
   "outputs": [],
   "source": [
    "import csv\n",
    "import numpy as np\n",
    "import pandas as pd\n",
    "import matplotlib.pyplot as plt\n",
    "import zipfile\n",
    "\n",
    "# Ensure that Pandas shows at least 280 characters in columns, so we can see full tweets\n",
    "pd.set_option('max_colwidth', 280)\n",
    "\n",
    "%matplotlib inline\n",
    "plt.style.use('fivethirtyeight')\n",
    "import seaborn as sns\n",
    "sns.set()\n",
    "sns.set_context(\"talk\")\n",
    "import re\n",
    "import tweepy"
   ]
  },
  {
   "cell_type": "code",
   "execution_count": 15,
   "metadata": {},
   "outputs": [],
   "source": [
    "# This requires getting your own Twitter developer account and API keys\n",
    "import json\n",
    "key_file = '/Users/ajaygoel/Documents/Neu/BigData/Project/keys.json'\n",
    "# Load my Twitter API auth key from my twitter account\n",
    "with open(key_file) as f:\n",
    "    keys = json.load(f)"
   ]
  },
  {
   "cell_type": "code",
   "execution_count": 5,
   "metadata": {},
   "outputs": [
    {
     "name": "stdout",
     "output_type": "stream",
     "text": [
      "Your username is: c40ed5ef91a645e\n"
     ]
    }
   ],
   "source": [
    "import tweepy\n",
    "from tweepy import TweepError\n",
    "import logging\n",
    "\n",
    "#ensure my API key is correct\n",
    "try:\n",
    "    auth = tweepy.OAuthHandler(\"4itQ0urqREG2aAJNg6Eyzajgk\", \"CSXRjWOzEgrG7ClfwLNJcyxmmuLIFPQgWjuk5UNsQi8W6TDZkn\")\n",
    "    auth.set_access_token(\"2974941042-wO8homuub4QlhSiU4LOdWR2fSjq2V1MTQ3UsxWs\", \"zaubrsUNIBzsYWaVibCVTAQuAMUJxpXj9DMPEQ963Yifj\")\n",
    "    api = tweepy.API(auth)\n",
    "    print(\"Your username is:\", api.auth.get_username())\n",
    "except TweepError as e:\n",
    "    logging.warning(\"There was a Tweepy error. Double check your API keys and try again.\")\n",
    "    logging.warning(e)"
   ]
  },
  {
   "cell_type": "code",
   "execution_count": 7,
   "metadata": {},
   "outputs": [],
   "source": [
    "from pathlib import Path\n",
    "import json\n",
    "\n",
    "ds_tweets_save_path = \"BerkeleyData_recent_tweets.json\"\n",
    "# Guarding against attempts to download the data multiple\n",
    "# times:\n",
    "if not Path(ds_tweets_save_path).is_file():\n",
    "    # Getting as many recent tweets by @BerkeleyData as Twitter will let us have.\n",
    "    # We use tweet_mode='extended' so that Twitter gives us full 280 character tweets.\n",
    "    # This was a change introduced in September 2017.\n",
    "    \n",
    "    # The tweepy Cursor API actually returns \"sophisticated\" Status objects but we \n",
    "    # will use the basic Python dictionaries stored in the _json field. \n",
    "    example_tweets = [t._json for t in tweepy.Cursor(api.user_timeline, id=\"Data\", \n",
    "                                             tweet_mode='extended').items()]\n",
    "    \n",
    "    # Saving the tweets to a json file on disk for future analysis\n",
    "    with open(ds_tweets_save_path, \"w\") as f:        \n",
    "        json.dump(example_tweets, f)\n",
    "\n",
    "# Re-loading the json file:\n",
    "with open(ds_tweets_save_path, \"r\") as f:\n",
    "    example_tweets = json.load(f)"
   ]
  },
  {
   "cell_type": "code",
   "execution_count": 8,
   "metadata": {},
   "outputs": [],
   "source": [
    "def load_keys(path):\n",
    "    \"\"\"Loads your Twitter authentication keys from a file on disk.\n",
    "    \n",
    "    Args:\n",
    "        path (str): The path to your key file.  The file should\n",
    "          be in JSON format and look like this (but filled in):\n",
    "            {\n",
    "                \"consumer_key\": \"4itQ0urqREG2aAJNg6Eyzajgk\",\n",
    "                \"consumer_secret\":  \"CSXRjWOzEgrG7ClfwLNJcyxmmuLIFPQgWjuk5UNsQi8W6TDZkn\",\n",
    "                \"access_token\": \"2974941042-wO8homuub4QlhSiU4LOdWR2fSjq2V1MTQ3UsxWs\",\n",
    "                \"access_token_secret\": \"zaubrsUNIBzsYWaVibCVTAQuAMUJxpXj9DMPEQ963Yifj\"\n",
    "            }\n",
    "    \n",
    "    Returns:\n",
    "        dict: A dictionary mapping key names (like \"consumer_key\") to\n",
    "          key values.\"\"\"\n",
    "    \n",
    "    with open(path) as f:\n",
    "        keys = json.load(f)\n",
    "    return keys"
   ]
  },
  {
   "cell_type": "code",
   "execution_count": 9,
   "metadata": {},
   "outputs": [],
   "source": [
    "def download_recent_tweets_by_user(user_account_name, keys):\n",
    "    \"\"\"Downloads tweets by one Twitter user.\n",
    "\n",
    "    Args:\n",
    "        user_account_name (str): The name of the Twitter account\n",
    "          whose tweets will be downloaded.\n",
    "        keys (dict): A Python dictionary with Twitter authentication\n",
    "          keys (strings), like this (but filled in):\n",
    "            {\n",
    "                \"consumer_key\": \"4itQ0urqREG2aAJNg6Eyzajgk\",\n",
    "                \"consumer_secret\":  \"CSXRjWOzEgrG7ClfwLNJcyxmmuLIFPQgWjuk5UNsQi8W6TDZkn\",\n",
    "                \"access_token\": \"2974941042-wO8homuub4QlhSiU4LOdWR2fSjq2V1MTQ3UsxWs\",\n",
    "                \"access_token_secret\": \"zaubrsUNIBzsYWaVibCVTAQuAMUJxpXj9DMPEQ963Yifj\"\n",
    "            }\n",
    "\n",
    "    Returns:\n",
    "        list: A list of Dictonary objects, each representing one tweet.\"\"\"\n",
    "    import tweepy\n",
    "    from tweepy import TweepError\n",
    "    import logging\n",
    "\n",
    "    try:\n",
    "        auth = tweepy.OAuthHandler(keys[\"consumer_key\"], keys[\"consumer_secret\"])\n",
    "        auth.set_access_token(keys[\"access_token\"], keys[\"access_token_secret\"])\n",
    "        api = tweepy.API(auth)\n",
    "        print(\"Your username is:\", api.auth.get_username())\n",
    "        print(\"Ready to go...\")\n",
    "    except TweepError as e:\n",
    "        logging.warning(\"There was a Tweepy error. Double check your API keys and try again.\")\n",
    "        logging.warning(e)\n",
    "    \n",
    "    print(\"Loading @\", user_account_name, \"'s data...\")\n",
    "    users_tweets = [t._json for t in tweepy.Cursor(api.user_timeline, id=user_account_name, \n",
    "                                             tweet_mode='extended').items()]\n",
    "    print(\"Finished!\")\n",
    "    \n",
    "    return users_tweets"
   ]
  },
  {
   "cell_type": "code",
   "execution_count": 10,
   "metadata": {},
   "outputs": [],
   "source": [
    "def save_tweets(tweets, path):\n",
    "    \"\"\"Saves a list of tweets to a file in the local filesystem.\n",
    "    \n",
    "    This function makes no guarantee about the format of the saved\n",
    "    tweets, **except** that calling load_tweets(path) after\n",
    "    save_tweets(tweets, path) will produce the same list of tweets\n",
    "    and that only the file at the given path is used to store the\n",
    "    tweets.  (That means you can implement this function however\n",
    "    you want, as long as saving and loading works!)\n",
    "\n",
    "    Args:\n",
    "        tweets (list): A list of tweet objects (of type Dictionary) to\n",
    "          be saved.\n",
    "        path (str): The place where the tweets will be saved.\n",
    "\n",
    "    Returns:\n",
    "        None\"\"\"\n",
    "    # Saving the tweets to a json file on disk for future analysis\n",
    "    with open(path, \"w\") as f:        \n",
    "        json.dump(tweets, f)"
   ]
  },
  {
   "cell_type": "code",
   "execution_count": 11,
   "metadata": {},
   "outputs": [],
   "source": [
    "def load_tweets(path):\n",
    "    \"\"\"Loads tweets that have previously been saved.\n",
    "    \n",
    "    Calling load_tweets(path) after save_tweets(tweets, path)\n",
    "    will produce the same list of tweets.\n",
    "    \n",
    "    Args:\n",
    "        path (str): The place where the tweets were be saved.\n",
    "\n",
    "    Returns:\n",
    "        list: A list of Dictionary objects, each representing one tweet.\"\"\"\n",
    "    # Re-loading the json file:\n",
    "    with open(path, \"r\") as f:\n",
    "        user_tweets = json.load(f)\n",
    "    return user_tweets"
   ]
  },
  {
   "cell_type": "code",
   "execution_count": 12,
   "metadata": {},
   "outputs": [],
   "source": [
    "def get_tweets_with_cache(user_account_name, keys_path):\n",
    "    \"\"\"Get recent tweets from one user, loading from a disk cache if available.\n",
    "    \n",
    "    The first time you call this function, it will download tweets by\n",
    "    a user.  Subsequent calls will not re-download the tweets; instead\n",
    "    they'll load the tweets from a save file in your local filesystem.\n",
    "    All this is done using the functions you defined in the previous cell.\n",
    "    This has benefits and drawbacks that often appear when you cache data:\n",
    "    \n",
    "    +: Using this function will prevent extraneous usage of the Twitter API.\n",
    "    +: You will get your data much faster after the first time it's called.\n",
    "    -: If you really want to re-download the tweets (say, to get newer ones,\n",
    "       or because you screwed up something in the previous cell and your\n",
    "       tweets aren't what you wanted), you'll have to find the save file\n",
    "       (which will look like <something>_recent_tweets.pkl) and delete it.\n",
    "    \n",
    "    Args:\n",
    "        user_account_name (str): The Twitter handle of a user, without the @.\n",
    "        keys_path (str): The path to a JSON keys file in your filesystem.\n",
    "    \"\"\"\n",
    "    save_path = user_account_name + \"_recent_tweets.json\"\n",
    "    \n",
    "    if not Path(save_path).is_file():\n",
    "        keys = load_keys(keys_path)\n",
    "        user_tweets = download_recent_tweets_by_user(user_account_name, keys)\n",
    "        save_tweets(user_tweets, save_path)\n",
    "        return user_tweets\n",
    "    user_tweets = load_tweets(save_path)\n",
    "    return user_tweets"
   ]
  },
  {
   "cell_type": "markdown",
   "metadata": {},
   "source": [
    "### Load Donald Trump's Tweets\n",
    "Should obtain over 3000 of Donald Trumps latest tweets from the past year"
   ]
  },
  {
   "cell_type": "code",
   "execution_count": 58,
   "metadata": {},
   "outputs": [
    {
     "name": "stdout",
     "output_type": "stream",
     "text": [
      "Number of tweets downloaded: 40\n"
     ]
    }
   ],
   "source": [
    "# get_tweets_with_cache will load local files of the users tweets if they exist, otherwise download them\n",
    "trump_tweets = get_tweets_with_cache(\"realdonaldtrump\", key_file)\n",
    "print(\"Number of tweets downloaded:\", len(trump_tweets))"
   ]
  },
  {
   "cell_type": "code",
   "execution_count": 19,
   "metadata": {},
   "outputs": [
    {
     "data": {
      "text/plain": [
       "'Thu Aug 08 14:38:17 +0000 2019'"
      ]
     },
     "execution_count": 19,
     "metadata": {},
     "output_type": "execute_result"
    }
   ],
   "source": [
    "trump_tweets[-1]['created_at']"
   ]
  },
  {
   "cell_type": "code",
   "execution_count": 20,
   "metadata": {},
   "outputs": [
    {
     "data": {
      "text/plain": [
       "'Mon Aug 12 04:02:50 +0000 2019'"
      ]
     },
     "execution_count": 20,
     "metadata": {},
     "output_type": "execute_result"
    }
   ],
   "source": [
    "trump_tweets[1]['created_at']\n"
   ]
  },
  {
   "cell_type": "code",
   "execution_count": 23,
   "metadata": {},
   "outputs": [],
   "source": [
    "tweets = {t['id']: t for t in trump_tweets}\n",
    "#tweets.update({t['id']: t for t in old_trump_tweets})\n",
    "all_tweets = list(tweets.values())"
   ]
  },
  {
   "cell_type": "markdown",
   "metadata": {},
   "source": [
    "## Data Cleaning\n",
    "Here I construct a dataframe to clean out the data I want to use from each tweet"
   ]
  },
  {
   "cell_type": "code",
   "execution_count": 24,
   "metadata": {},
   "outputs": [],
   "source": [
    "tid = []\n",
    "time = []\n",
    "source = []\n",
    "text = []\n",
    "retweet_count = []\n",
    "for tweet in all_tweets: \n",
    "    tid.append(tweet['id'])\n",
    "    time.append(pd.to_datetime(tweet['created_at']))\n",
    "    source.append(tweet['source'])\n",
    "    retweet_count.append(tweet['retweet_count'])\n",
    "    if 'text' in tweet: \n",
    "        text.append(tweet['text'])\n",
    "    else:\n",
    "        text.append(tweet['full_text'])\n",
    "trump = pd.DataFrame({'time':time, 'source':source,'text':text,'retweet_count':retweet_count}, \n",
    "                    index = tid, columns = ['time', 'source', 'text', 'retweet_count'],).sort_index()\n",
    "trump.index.name = 'id'"
   ]
  },
  {
   "cell_type": "code",
   "execution_count": 25,
   "metadata": {},
   "outputs": [],
   "source": [
    "trump['time'] = trump['time'].astype('<M8[ns]')\n"
   ]
  },
  {
   "cell_type": "code",
   "execution_count": 26,
   "metadata": {},
   "outputs": [
    {
     "data": {
      "text/plain": [
       "array(['<a href=\"http://twitter.com/download/iphone\" rel=\"nofollow\">Twitter for iPhone</a>'],\n",
       "      dtype=object)"
      ]
     },
     "execution_count": 26,
     "metadata": {},
     "output_type": "execute_result"
    }
   ],
   "source": [
    "trump['source'].unique()\n"
   ]
  },
  {
   "cell_type": "code",
   "execution_count": 27,
   "metadata": {},
   "outputs": [],
   "source": [
    "trump['source'] = trump['source'].str.replace(r'<.*?>', '')\n"
   ]
  },
  {
   "cell_type": "code",
   "execution_count": 31,
   "metadata": {},
   "outputs": [
    {
     "name": "stdout",
     "output_type": "stream",
     "text": [
      "Mon Aug 12 04:03:51 +0000 2019\n",
      "Mon Aug 12 04:02:50 +0000 2019\n",
      "Mon Aug 12 04:01:28 +0000 2019\n"
     ]
    }
   ],
   "source": [
    "for t in trump_tweets[0:3]:\n",
    "    print(t['created_at'])"
   ]
  },
  {
   "cell_type": "code",
   "execution_count": 32,
   "metadata": {},
   "outputs": [
    {
     "data": {
      "text/html": [
       "<div>\n",
       "<style scoped>\n",
       "    .dataframe tbody tr th:only-of-type {\n",
       "        vertical-align: middle;\n",
       "    }\n",
       "\n",
       "    .dataframe tbody tr th {\n",
       "        vertical-align: top;\n",
       "    }\n",
       "\n",
       "    .dataframe thead th {\n",
       "        text-align: right;\n",
       "    }\n",
       "</style>\n",
       "<table border=\"1\" class=\"dataframe\">\n",
       "  <thead>\n",
       "    <tr style=\"text-align: right;\">\n",
       "      <th></th>\n",
       "      <th>time</th>\n",
       "      <th>source</th>\n",
       "      <th>text</th>\n",
       "      <th>retweet_count</th>\n",
       "      <th>est_time</th>\n",
       "    </tr>\n",
       "    <tr>\n",
       "      <th>id</th>\n",
       "      <th></th>\n",
       "      <th></th>\n",
       "      <th></th>\n",
       "      <th></th>\n",
       "      <th></th>\n",
       "    </tr>\n",
       "  </thead>\n",
       "  <tbody>\n",
       "    <tr>\n",
       "      <th>1159473911748317189</th>\n",
       "      <td>2019-08-08 14:38:17</td>\n",
       "      <td>Twitter for iPhone</td>\n",
       "      <td>....John Deere, our car companies, &amp;amp; others, to compete on a level playing field. With substantial Fed Cuts (there is no inflation) and no quantitative tightening, the dollar will make it possible for our companies to win against any competition. We have the greatest comp...</td>\n",
       "      <td>14100</td>\n",
       "      <td>2019-08-08 09:38:17-05:00</td>\n",
       "    </tr>\n",
       "    <tr>\n",
       "      <th>1159473912616501254</th>\n",
       "      <td>2019-08-08 14:38:17</td>\n",
       "      <td>Twitter for iPhone</td>\n",
       "      <td>....in the world, there is nobody even close, but unfortunately the same cannot be said about our Federal Reserve. They have called it wrong at every step of the way, and we are still winning. Can you imagine what would happen if they actually called it right?</td>\n",
       "      <td>15229</td>\n",
       "      <td>2019-08-08 09:38:17-05:00</td>\n",
       "    </tr>\n",
       "    <tr>\n",
       "      <th>1159522492324687877</th>\n",
       "      <td>2019-08-08 17:51:19</td>\n",
       "      <td>Twitter for iPhone</td>\n",
       "      <td>Iran is in serious financial trouble. They want desperately to talk to the U.S., but are given mixed signals from all of those purporting to represent us, including President Macron of France....</td>\n",
       "      <td>20390</td>\n",
       "      <td>2019-08-08 12:51:19-05:00</td>\n",
       "    </tr>\n",
       "    <tr>\n",
       "      <th>1159522493801123840</th>\n",
       "      <td>2019-08-08 17:51:20</td>\n",
       "      <td>Twitter for iPhone</td>\n",
       "      <td>....I know Emmanuel means well, as do all others, but nobody speaks for the United States but the United States itself. No one is authorized in any way, shape, or form, to represent us!</td>\n",
       "      <td>18217</td>\n",
       "      <td>2019-08-08 12:51:20-05:00</td>\n",
       "    </tr>\n",
       "    <tr>\n",
       "      <th>1159590032514134016</th>\n",
       "      <td>2019-08-08 22:19:42</td>\n",
       "      <td>Twitter for iPhone</td>\n",
       "      <td>Sue Gordon is a great professional with a long and distinguished career. I have gotten to know Sue over the past 2 years and have developed great respect for her. Sue has announced she will be leaving on August 15, which....</td>\n",
       "      <td>12005</td>\n",
       "      <td>2019-08-08 17:19:42-05:00</td>\n",
       "    </tr>\n",
       "  </tbody>\n",
       "</table>\n",
       "</div>"
      ],
      "text/plain": [
       "                                   time              source  \\\n",
       "id                                                            \n",
       "1159473911748317189 2019-08-08 14:38:17  Twitter for iPhone   \n",
       "1159473912616501254 2019-08-08 14:38:17  Twitter for iPhone   \n",
       "1159522492324687877 2019-08-08 17:51:19  Twitter for iPhone   \n",
       "1159522493801123840 2019-08-08 17:51:20  Twitter for iPhone   \n",
       "1159590032514134016 2019-08-08 22:19:42  Twitter for iPhone   \n",
       "\n",
       "                                                                                                                                                                                                                                                                                                        text  \\\n",
       "id                                                                                                                                                                                                                                                                                                             \n",
       "1159473911748317189  ....John Deere, our car companies, &amp; others, to compete on a level playing field. With substantial Fed Cuts (there is no inflation) and no quantitative tightening, the dollar will make it possible for our companies to win against any competition. We have the greatest comp...   \n",
       "1159473912616501254                     ....in the world, there is nobody even close, but unfortunately the same cannot be said about our Federal Reserve. They have called it wrong at every step of the way, and we are still winning. Can you imagine what would happen if they actually called it right?   \n",
       "1159522492324687877                                                                                      Iran is in serious financial trouble. They want desperately to talk to the U.S., but are given mixed signals from all of those purporting to represent us, including President Macron of France....   \n",
       "1159522493801123840                                                                                                ....I know Emmanuel means well, as do all others, but nobody speaks for the United States but the United States itself. No one is authorized in any way, shape, or form, to represent us!   \n",
       "1159590032514134016                                                         Sue Gordon is a great professional with a long and distinguished career. I have gotten to know Sue over the past 2 years and have developed great respect for her. Sue has announced she will be leaving on August 15, which....   \n",
       "\n",
       "                     retweet_count                  est_time  \n",
       "id                                                            \n",
       "1159473911748317189          14100 2019-08-08 09:38:17-05:00  \n",
       "1159473912616501254          15229 2019-08-08 09:38:17-05:00  \n",
       "1159522492324687877          20390 2019-08-08 12:51:19-05:00  \n",
       "1159522493801123840          18217 2019-08-08 12:51:20-05:00  \n",
       "1159590032514134016          12005 2019-08-08 17:19:42-05:00  "
      ]
     },
     "execution_count": 32,
     "metadata": {},
     "output_type": "execute_result"
    }
   ],
   "source": [
    "trump['est_time'] = (\n",
    "    trump['time'].dt.tz_localize(\"UTC\") # Set initial timezone to UTC\n",
    "                 .dt.tz_convert(\"EST\") # Convert to Eastern Time\n",
    ")\n",
    "trump.head()"
   ]
  },
  {
   "cell_type": "code",
   "execution_count": 33,
   "metadata": {},
   "outputs": [],
   "source": [
    "hour = trump['est_time'].dt.hour\n",
    "minutes = trump['est_time'].dt.minute /60\n",
    "seconds = trump['est_time'].dt.second / 60 **2\n",
    "\n",
    "trump['hour'] = hour + minutes + seconds"
   ]
  },
  {
   "cell_type": "markdown",
   "metadata": {},
   "source": [
    "### Sentiment Analysis\n",
    "It turns out that we can use the words in Trump's tweets to calculate a measure of the sentiment of the tweet. For example, the sentence \"I love America!\" has positive sentiment, whereas the sentence \"I hate taxes!\" has a negative sentiment. In addition, some words have stronger positive / negative sentiment than others: \"I love America.\" is more positive than \"I like America.\"\n",
    "\n",
    "We will use the VADER (Valence Aware Dictionary and sEntiment Reasoner) lexicon to analyze the sentiment of Trump's tweets. VADER is a lexicon and rule-based sentiment analysis tool that is specifically attuned to sentiments expressed in social media which is great for our usage.\n",
    "\n",
    "The VADER lexicon gives the sentiment of individual words. Run the following cell to show the first few rows of the lexicon:"
   ]
  },
  {
   "cell_type": "code",
   "execution_count": 34,
   "metadata": {},
   "outputs": [
    {
     "name": "stdout",
     "output_type": "stream",
     "text": [
      "$:\t-1.5\t0.80623\t[-1, -1, -1, -1, -3, -1, -3, -1, -2, -1]\n",
      "%)\t-0.4\t1.0198\t[-1, 0, -1, 0, 0, -2, -1, 2, -1, 0]\n",
      "%-)\t-1.5\t1.43178\t[-2, 0, -2, -2, -1, 2, -2, -3, -2, -3]\n",
      "&-:\t-0.4\t1.42829\t[-3, -1, 0, 0, -1, -1, -1, 2, -1, 2]\n",
      "&:\t-0.7\t0.64031\t[0, -1, -1, -1, 1, -1, -1, -1, -1, -1]\n",
      "( '}{' )\t1.6\t0.66332\t[1, 2, 2, 1, 1, 2, 2, 1, 3, 1]\n",
      "(%\t-0.9\t0.9434\t[0, 0, 1, -1, -1, -1, -2, -2, -1, -2]\n",
      "('-:\t2.2\t1.16619\t[4, 1, 4, 3, 1, 2, 3, 1, 2, 1]\n",
      "(':\t2.3\t0.9\t[1, 3, 3, 2, 2, 4, 2, 3, 1, 2]\n",
      "((-:\t2.1\t0.53852\t[2, 2, 2, 1, 2, 3, 2, 2, 3, 2]\n",
      "\n"
     ]
    }
   ],
   "source": [
    "print(''.join(open(\"/Users/ajaygoel/Documents/Neu/BigData/Project/SentimentAnalysis/vader_lexicon.txt\").readlines()[:10]))\n"
   ]
  },
  {
   "cell_type": "code",
   "execution_count": 35,
   "metadata": {},
   "outputs": [
    {
     "name": "stderr",
     "output_type": "stream",
     "text": [
      "//anaconda3/lib/python3.7/site-packages/ipykernel_launcher.py:1: FutureWarning: read_table is deprecated, use read_csv instead.\n",
      "  \"\"\"Entry point for launching an IPython kernel.\n"
     ]
    }
   ],
   "source": [
    "sent = pd.read_table(\"vader_lexicon.txt\", sep=\"\\t\", header = None, index_col=0)\n",
    "sent = sent.drop(columns = [2, 3])\n",
    "sent.index.name = \"lexicon\"\n",
    "sent = sent.rename(columns={1:\"polarity\"})"
   ]
  },
  {
   "cell_type": "code",
   "execution_count": 36,
   "metadata": {},
   "outputs": [
    {
     "data": {
      "text/html": [
       "<div>\n",
       "<style scoped>\n",
       "    .dataframe tbody tr th:only-of-type {\n",
       "        vertical-align: middle;\n",
       "    }\n",
       "\n",
       "    .dataframe tbody tr th {\n",
       "        vertical-align: top;\n",
       "    }\n",
       "\n",
       "    .dataframe thead th {\n",
       "        text-align: right;\n",
       "    }\n",
       "</style>\n",
       "<table border=\"1\" class=\"dataframe\">\n",
       "  <thead>\n",
       "    <tr style=\"text-align: right;\">\n",
       "      <th></th>\n",
       "      <th>polarity</th>\n",
       "    </tr>\n",
       "    <tr>\n",
       "      <th>lexicon</th>\n",
       "      <th></th>\n",
       "    </tr>\n",
       "  </thead>\n",
       "  <tbody>\n",
       "    <tr>\n",
       "      <th>$:</th>\n",
       "      <td>-1.5</td>\n",
       "    </tr>\n",
       "    <tr>\n",
       "      <th>%)</th>\n",
       "      <td>-0.4</td>\n",
       "    </tr>\n",
       "    <tr>\n",
       "      <th>%-)</th>\n",
       "      <td>-1.5</td>\n",
       "    </tr>\n",
       "    <tr>\n",
       "      <th>&amp;-:</th>\n",
       "      <td>-0.4</td>\n",
       "    </tr>\n",
       "    <tr>\n",
       "      <th>&amp;:</th>\n",
       "      <td>-0.7</td>\n",
       "    </tr>\n",
       "  </tbody>\n",
       "</table>\n",
       "</div>"
      ],
      "text/plain": [
       "         polarity\n",
       "lexicon          \n",
       "$:           -1.5\n",
       "%)           -0.4\n",
       "%-)          -1.5\n",
       "&-:          -0.4\n",
       "&:           -0.7"
      ]
     },
     "execution_count": 36,
     "metadata": {},
     "output_type": "execute_result"
    }
   ],
   "source": [
    "sent.head()"
   ]
  },
  {
   "cell_type": "code",
   "execution_count": 37,
   "metadata": {},
   "outputs": [],
   "source": [
    "trump['text'] = trump['text'].str.lower()\n"
   ]
  },
  {
   "cell_type": "code",
   "execution_count": 38,
   "metadata": {},
   "outputs": [
    {
     "data": {
      "text/plain": [
       "id\n",
       "1159473911748317189    ....john deere, our car companies, &amp; others, to compete on a level playing field. with substantial fed cuts (there is no inflation) and no quantitative tightening, the dollar will make it possible for our companies to win against any competition. we have the greatest comp...\n",
       "1159473912616501254                       ....in the world, there is nobody even close, but unfortunately the same cannot be said about our federal reserve. they have called it wrong at every step of the way, and we are still winning. can you imagine what would happen if they actually called it right?\n",
       "1159522492324687877                                                                                        iran is in serious financial trouble. they want desperately to talk to the u.s., but are given mixed signals from all of those purporting to represent us, including president macron of france....\n",
       "1159522493801123840                                                                                                  ....i know emmanuel means well, as do all others, but nobody speaks for the united states but the united states itself. no one is authorized in any way, shape, or form, to represent us!\n",
       "1159590032514134016                                                           sue gordon is a great professional with a long and distinguished career. i have gotten to know sue over the past 2 years and have developed great respect for her. sue has announced she will be leaving on august 15, which....\n",
       "Name: text, dtype: object"
      ]
     },
     "execution_count": 38,
     "metadata": {},
     "output_type": "execute_result"
    }
   ],
   "source": [
    "trump['text'].head()\n"
   ]
  },
  {
   "cell_type": "code",
   "execution_count": 39,
   "metadata": {},
   "outputs": [],
   "source": [
    "punct_re = r'[^\\w\\s]'\n",
    "trump['no_punc'] = trump['text'].str.replace(punct_re, repl=\" \")"
   ]
  },
  {
   "cell_type": "code",
   "execution_count": 40,
   "metadata": {},
   "outputs": [],
   "source": [
    "tidy_format = trump['no_punc'].str.split(expand=True).stack().reset_index(level=1).rename(columns={\"level_1\":'num', 0:'word'})"
   ]
  },
  {
   "cell_type": "code",
   "execution_count": 41,
   "metadata": {},
   "outputs": [
    {
     "data": {
      "text/html": [
       "<div>\n",
       "<style scoped>\n",
       "    .dataframe tbody tr th:only-of-type {\n",
       "        vertical-align: middle;\n",
       "    }\n",
       "\n",
       "    .dataframe tbody tr th {\n",
       "        vertical-align: top;\n",
       "    }\n",
       "\n",
       "    .dataframe thead th {\n",
       "        text-align: right;\n",
       "    }\n",
       "</style>\n",
       "<table border=\"1\" class=\"dataframe\">\n",
       "  <thead>\n",
       "    <tr style=\"text-align: right;\">\n",
       "      <th></th>\n",
       "      <th>num</th>\n",
       "      <th>word</th>\n",
       "    </tr>\n",
       "    <tr>\n",
       "      <th>id</th>\n",
       "      <th></th>\n",
       "      <th></th>\n",
       "    </tr>\n",
       "  </thead>\n",
       "  <tbody>\n",
       "    <tr>\n",
       "      <th>1159473911748317189</th>\n",
       "      <td>0</td>\n",
       "      <td>john</td>\n",
       "    </tr>\n",
       "    <tr>\n",
       "      <th>1159473911748317189</th>\n",
       "      <td>1</td>\n",
       "      <td>deere</td>\n",
       "    </tr>\n",
       "    <tr>\n",
       "      <th>1159473911748317189</th>\n",
       "      <td>2</td>\n",
       "      <td>our</td>\n",
       "    </tr>\n",
       "    <tr>\n",
       "      <th>1159473911748317189</th>\n",
       "      <td>3</td>\n",
       "      <td>car</td>\n",
       "    </tr>\n",
       "    <tr>\n",
       "      <th>1159473911748317189</th>\n",
       "      <td>4</td>\n",
       "      <td>companies</td>\n",
       "    </tr>\n",
       "  </tbody>\n",
       "</table>\n",
       "</div>"
      ],
      "text/plain": [
       "                     num       word\n",
       "id                                 \n",
       "1159473911748317189    0       john\n",
       "1159473911748317189    1      deere\n",
       "1159473911748317189    2        our\n",
       "1159473911748317189    3        car\n",
       "1159473911748317189    4  companies"
      ]
     },
     "execution_count": 41,
     "metadata": {},
     "output_type": "execute_result"
    }
   ],
   "source": [
    "tidy_format.head()"
   ]
  },
  {
   "cell_type": "code",
   "execution_count": 42,
   "metadata": {},
   "outputs": [],
   "source": [
    "polarity = tidy_format.merge(sent, how = 'left', left_on= 'word', right_index=True)\n",
    "trump['polarity'] = polarity.groupby(\"id\")[\"polarity\"].sum()"
   ]
  },
  {
   "cell_type": "code",
   "execution_count": 43,
   "metadata": {},
   "outputs": [
    {
     "data": {
      "text/html": [
       "<div>\n",
       "<style scoped>\n",
       "    .dataframe tbody tr th:only-of-type {\n",
       "        vertical-align: middle;\n",
       "    }\n",
       "\n",
       "    .dataframe tbody tr th {\n",
       "        vertical-align: top;\n",
       "    }\n",
       "\n",
       "    .dataframe thead th {\n",
       "        text-align: right;\n",
       "    }\n",
       "</style>\n",
       "<table border=\"1\" class=\"dataframe\">\n",
       "  <thead>\n",
       "    <tr style=\"text-align: right;\">\n",
       "      <th></th>\n",
       "      <th>time</th>\n",
       "      <th>source</th>\n",
       "      <th>text</th>\n",
       "      <th>retweet_count</th>\n",
       "      <th>est_time</th>\n",
       "      <th>hour</th>\n",
       "      <th>no_punc</th>\n",
       "      <th>polarity</th>\n",
       "    </tr>\n",
       "    <tr>\n",
       "      <th>id</th>\n",
       "      <th></th>\n",
       "      <th></th>\n",
       "      <th></th>\n",
       "      <th></th>\n",
       "      <th></th>\n",
       "      <th></th>\n",
       "      <th></th>\n",
       "      <th></th>\n",
       "    </tr>\n",
       "  </thead>\n",
       "  <tbody>\n",
       "    <tr>\n",
       "      <th>1159473911748317189</th>\n",
       "      <td>2019-08-08 14:38:17</td>\n",
       "      <td>Twitter for iPhone</td>\n",
       "      <td>....john deere, our car companies, &amp;amp; others, to compete on a level playing field. with substantial fed cuts (there is no inflation) and no quantitative tightening, the dollar will make it possible for our companies to win against any competition. we have the greatest comp...</td>\n",
       "      <td>14100</td>\n",
       "      <td>2019-08-08 09:38:17-05:00</td>\n",
       "      <td>9.638056</td>\n",
       "      <td>john deere  our car companies   amp  others  to compete on a level playing field  with substantial fed cuts  there is no inflation  and no quantitative tightening  the dollar will make it possible for our companies to win against any competition  we have the greatest comp...</td>\n",
       "      <td>4.0</td>\n",
       "    </tr>\n",
       "    <tr>\n",
       "      <th>1159473912616501254</th>\n",
       "      <td>2019-08-08 14:38:17</td>\n",
       "      <td>Twitter for iPhone</td>\n",
       "      <td>....in the world, there is nobody even close, but unfortunately the same cannot be said about our federal reserve. they have called it wrong at every step of the way, and we are still winning. can you imagine what would happen if they actually called it right?</td>\n",
       "      <td>15229</td>\n",
       "      <td>2019-08-08 09:38:17-05:00</td>\n",
       "      <td>9.638056</td>\n",
       "      <td>in the world  there is nobody even close  but unfortunately the same cannot be said about our federal reserve  they have called it wrong at every step of the way  and we are still winning  can you imagine what would happen if they actually called it right</td>\n",
       "      <td>-1.1</td>\n",
       "    </tr>\n",
       "    <tr>\n",
       "      <th>1159522492324687877</th>\n",
       "      <td>2019-08-08 17:51:19</td>\n",
       "      <td>Twitter for iPhone</td>\n",
       "      <td>iran is in serious financial trouble. they want desperately to talk to the u.s., but are given mixed signals from all of those purporting to represent us, including president macron of france....</td>\n",
       "      <td>20390</td>\n",
       "      <td>2019-08-08 12:51:19-05:00</td>\n",
       "      <td>12.855278</td>\n",
       "      <td>iran is in serious financial trouble  they want desperately to talk to the u s   but are given mixed signals from all of those purporting to represent us  including president macron of france</td>\n",
       "      <td>-3.3</td>\n",
       "    </tr>\n",
       "    <tr>\n",
       "      <th>1159522493801123840</th>\n",
       "      <td>2019-08-08 17:51:20</td>\n",
       "      <td>Twitter for iPhone</td>\n",
       "      <td>....i know emmanuel means well, as do all others, but nobody speaks for the united states but the united states itself. no one is authorized in any way, shape, or form, to represent us!</td>\n",
       "      <td>18217</td>\n",
       "      <td>2019-08-08 12:51:20-05:00</td>\n",
       "      <td>12.855556</td>\n",
       "      <td>i know emmanuel means well  as do all others  but nobody speaks for the united states but the united states itself  no one is authorized in any way  shape  or form  to represent us</td>\n",
       "      <td>3.5</td>\n",
       "    </tr>\n",
       "    <tr>\n",
       "      <th>1159590032514134016</th>\n",
       "      <td>2019-08-08 22:19:42</td>\n",
       "      <td>Twitter for iPhone</td>\n",
       "      <td>sue gordon is a great professional with a long and distinguished career. i have gotten to know sue over the past 2 years and have developed great respect for her. sue has announced she will be leaving on august 15, which....</td>\n",
       "      <td>12005</td>\n",
       "      <td>2019-08-08 17:19:42-05:00</td>\n",
       "      <td>17.328333</td>\n",
       "      <td>sue gordon is a great professional with a long and distinguished career  i have gotten to know sue over the past 2 years and have developed great respect for her  sue has announced she will be leaving on august 15  which</td>\n",
       "      <td>8.3</td>\n",
       "    </tr>\n",
       "  </tbody>\n",
       "</table>\n",
       "</div>"
      ],
      "text/plain": [
       "                                   time              source  \\\n",
       "id                                                            \n",
       "1159473911748317189 2019-08-08 14:38:17  Twitter for iPhone   \n",
       "1159473912616501254 2019-08-08 14:38:17  Twitter for iPhone   \n",
       "1159522492324687877 2019-08-08 17:51:19  Twitter for iPhone   \n",
       "1159522493801123840 2019-08-08 17:51:20  Twitter for iPhone   \n",
       "1159590032514134016 2019-08-08 22:19:42  Twitter for iPhone   \n",
       "\n",
       "                                                                                                                                                                                                                                                                                                        text  \\\n",
       "id                                                                                                                                                                                                                                                                                                             \n",
       "1159473911748317189  ....john deere, our car companies, &amp; others, to compete on a level playing field. with substantial fed cuts (there is no inflation) and no quantitative tightening, the dollar will make it possible for our companies to win against any competition. we have the greatest comp...   \n",
       "1159473912616501254                     ....in the world, there is nobody even close, but unfortunately the same cannot be said about our federal reserve. they have called it wrong at every step of the way, and we are still winning. can you imagine what would happen if they actually called it right?   \n",
       "1159522492324687877                                                                                      iran is in serious financial trouble. they want desperately to talk to the u.s., but are given mixed signals from all of those purporting to represent us, including president macron of france....   \n",
       "1159522493801123840                                                                                                ....i know emmanuel means well, as do all others, but nobody speaks for the united states but the united states itself. no one is authorized in any way, shape, or form, to represent us!   \n",
       "1159590032514134016                                                         sue gordon is a great professional with a long and distinguished career. i have gotten to know sue over the past 2 years and have developed great respect for her. sue has announced she will be leaving on august 15, which....   \n",
       "\n",
       "                     retweet_count                  est_time       hour  \\\n",
       "id                                                                        \n",
       "1159473911748317189          14100 2019-08-08 09:38:17-05:00   9.638056   \n",
       "1159473912616501254          15229 2019-08-08 09:38:17-05:00   9.638056   \n",
       "1159522492324687877          20390 2019-08-08 12:51:19-05:00  12.855278   \n",
       "1159522493801123840          18217 2019-08-08 12:51:20-05:00  12.855556   \n",
       "1159590032514134016          12005 2019-08-08 17:19:42-05:00  17.328333   \n",
       "\n",
       "                                                                                                                                                                                                                                                                                                     no_punc  \\\n",
       "id                                                                                                                                                                                                                                                                                                             \n",
       "1159473911748317189      john deere  our car companies   amp  others  to compete on a level playing field  with substantial fed cuts  there is no inflation  and no quantitative tightening  the dollar will make it possible for our companies to win against any competition  we have the greatest comp...   \n",
       "1159473912616501254                         in the world  there is nobody even close  but unfortunately the same cannot be said about our federal reserve  they have called it wrong at every step of the way  and we are still winning  can you imagine what would happen if they actually called it right    \n",
       "1159522492324687877                                                                                      iran is in serious financial trouble  they want desperately to talk to the u s   but are given mixed signals from all of those purporting to represent us  including president macron of france       \n",
       "1159522493801123840                                                                                                    i know emmanuel means well  as do all others  but nobody speaks for the united states but the united states itself  no one is authorized in any way  shape  or form  to represent us    \n",
       "1159590032514134016                                                         sue gordon is a great professional with a long and distinguished career  i have gotten to know sue over the past 2 years and have developed great respect for her  sue has announced she will be leaving on august 15  which       \n",
       "\n",
       "                     polarity  \n",
       "id                             \n",
       "1159473911748317189       4.0  \n",
       "1159473912616501254      -1.1  \n",
       "1159522492324687877      -3.3  \n",
       "1159522493801123840       3.5  \n",
       "1159590032514134016       8.3  "
      ]
     },
     "execution_count": 43,
     "metadata": {},
     "output_type": "execute_result"
    }
   ],
   "source": [
    "trump.head()"
   ]
  },
  {
   "cell_type": "code",
   "execution_count": 44,
   "metadata": {},
   "outputs": [
    {
     "name": "stdout",
     "output_type": "stream",
     "text": [
      "Most negative tweets:\n",
      "\n",
      "   ....to inflame and cause chaos. they create their own violence, and then try to blame others. they are the true racists, and are very bad for our country!\n",
      "\n",
      "   rt @w_terrence: died of suicide on 24/7 suicide watch ? yeah right! how does that happen\n",
      "\n",
      "#jefferyepstein had information on bill clinton &amp;…\n",
      "\n",
      "   maggie haberman of the failing @nytimes reported that i was annoyed by the lack of cameras inside the hospitals in dayton &amp; el paso, when in fact i was the one who stated, very strongly, that i didn’t want the fake news inside &amp; told my people not to let them in. fake reporting!\n",
      "\n",
      "   ..tv talent. then, during the 2016 election, i would watch as joe scarborough &amp; his very angry psycho wife(?) would push donny to the point of total humiliation. he would never fight back because he wanted to stay on tv, even on a very low rated show, all in the name of ambition!\n",
      "\n",
      "   never has the press been more inaccurate, unfair or corrupt! we are not fighting the democrats, they are easy, we are fighting the seriously dishonest and unhinged lamestream media. they have gone totally crazy. make america great again!\n"
     ]
    }
   ],
   "source": [
    "#Trumps most negative tweets\n",
    "print('Most negative tweets:')\n",
    "for t in trump.sort_values('polarity').head()['text']:\n",
    "    print('\\n  ', t)"
   ]
  },
  {
   "cell_type": "code",
   "execution_count": 45,
   "metadata": {},
   "outputs": [
    {
     "name": "stdout",
     "output_type": "stream",
     "text": [
      "Most positive tweets:\n",
      "\n",
      "   i am pleased to inform you that the honorable joseph maguire, current director of the national counterterrorism center, will be named acting director of national intelligence, effective august 15th. admiral maguire has a long and distinguished....\n",
      "\n",
      "   sue gordon is a great professional with a long and distinguished career. i have gotten to know sue over the past 2 years and have developed great respect for her. sue has announced she will be leaving on august 15, which....\n",
      "\n",
      "   many incredible things are happening right now for our country. after years of being ripped off by other nations on both trade deals and the military, things are changing fast. big progress is being made. america is respected again. keep america great!\n",
      "\n",
      "   china wants to make a deal so badly. thousands of companies are leaving because of the tariffs, they must stem the flow. at the same time china may be hoping for a democrat to win so they could continue the great ripoff of america, &amp; the theft of hundreds of billions of $’s!\n",
      "\n",
      "   serious discussions are taking place between house and senate leadership  on meaningful background checks. i have also been speaking to the nra, and others, so that their very strong views can be fully represented and respected. guns should not be placed in the hands of.....\n"
     ]
    }
   ],
   "source": [
    "\n",
    "#Trumps most positive Tweets\n",
    "print('Most positive tweets:')\n",
    "for t in trump.sort_values('polarity', ascending=False).head()['text']:\n",
    "    print('\\n  ', t)"
   ]
  },
  {
   "cell_type": "code",
   "execution_count": 46,
   "metadata": {},
   "outputs": [
    {
     "name": "stderr",
     "output_type": "stream",
     "text": [
      "//anaconda3/lib/python3.7/site-packages/seaborn/distributions.py:198: RuntimeWarning: Mean of empty slice.\n",
      "  line, = ax.plot(a.mean(), 0)\n",
      "//anaconda3/lib/python3.7/site-packages/numpy/core/_methods.py:85: RuntimeWarning: invalid value encountered in double_scalars\n",
      "  ret = ret.dtype.type(ret / rcount)\n",
      "//anaconda3/lib/python3.7/site-packages/numpy/lib/histograms.py:893: RuntimeWarning: invalid value encountered in true_divide\n",
      "  return n/db/n.sum(), bin_edges\n"
     ]
    },
    {
     "data": {
      "image/png": "[encoded data removed]",
      "text/plain": [
       "<Figure size 432x288 with 1 Axes>"
      ]
     },
     "metadata": {},
     "output_type": "display_data"
    }
   ],
   "source": [
    "nyt = trump[trump[\"no_punc\"].str.contains('nyt')]['polarity']\n",
    "fox =  trump[trump[\"no_punc\"].str.contains('fox')]['polarity']\n",
    "\n",
    "sns.distplot(trump.loc[nyt.index.values][\"polarity\"], label = \"NYT\")\n",
    "sns.distplot(trump.loc[fox.index.values][\"polarity\"], label = \"Fox\") \n",
    "plt.ylabel(\"fraction\")\n",
    "plt.legend()\n",
    "plt.title(\"Polarity of Tweets From Trump on Fox and NYT\")\n",
    "plt.show()"
   ]
  },
  {
   "cell_type": "code",
   "execution_count": null,
   "metadata": {},
   "outputs": [],
   "source": []
  }
 ],
 "metadata": {
  "kernelspec": {
   "display_name": "Python 3",
   "language": "python",
   "name": "python3"
  },
  "language_info": {
   "codemirror_mode": {
    "name": "ipython",
    "version": 3
   },
   "file_extension": ".py",
   "mimetype": "text/x-python",
   "name": "python",
   "nbconvert_exporter": "python",
   "pygments_lexer": "ipython3",
   "version": "3.7.3"
  }
 },
 "nbformat": 4,
 "nbformat_minor": 2
}
